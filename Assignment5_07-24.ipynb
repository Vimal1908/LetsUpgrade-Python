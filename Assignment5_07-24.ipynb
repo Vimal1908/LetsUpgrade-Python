{
 "cells": [
  {
   "cell_type": "code",
   "execution_count": 2,
   "metadata": {},
   "outputs": [
    {
     "name": "stdout",
     "output_type": "stream",
     "text": [
      "[0, 0, 0, 0, 0, 1, 1, 1, 2, 2, 3, 4, 4, 10, 56, 56]\n",
      "[1, 1, 1, 2, 2, 3, 4, 4, 10, 56, 56, 0, 0, 0, 0, 0]\n"
     ]
    }
   ],
   "source": [
    "#Sorting in increasing order and zeros on RHS\n",
    "a1=[0,1,2,10,4,1,0,56,2,0,1,3,0,56,0,4]\n",
    "a1.sort()\n",
    "print(a1)\n",
    "newa1=[]\n",
    "num=0\n",
    "for i in a1:\n",
    "    if i is 0:\n",
    "        num=num+1\n",
    "    if i is not 0:\n",
    "        newa1.append(i)\n",
    "for i in range(num):\n",
    "    newa1.append(0)\n",
    "print(newa1)"
   ]
  },
  {
   "cell_type": "code",
   "execution_count": 3,
   "metadata": {},
   "outputs": [
    {
     "name": "stdout",
     "output_type": "stream",
     "text": [
      "[10, 20, 40, 60, 70, 80, 5, 15, 25, 35, 45, 60]\n",
      "[5, 10, 15, 20, 25, 35, 40, 45, 60, 60, 70, 80]\n"
     ]
    }
   ],
   "source": [
    "# Merging two sorted list and using loop to produce one sorted list\n",
    "list1= [10,20,40,60,70,80]\n",
    "list2=[5,15,25,35,45,60]\n",
    "list3= list1 + list2\n",
    "print (list3)\n",
    "n = len(list3)\n",
    "for i in range(n):\n",
    "    for j in range(1, n-i):\n",
    "        if list3[j-1] > list3[j]:\n",
    "             (list3[j-1], list3[j]) = (list3[j], list3[j-1])\n",
    "print(list3)\n"
   ]
  },
  {
   "cell_type": "code",
   "execution_count": 4,
   "metadata": {},
   "outputs": [
    {
     "name": "stdout",
     "output_type": "stream",
     "text": [
      "[10, 20, 40, 60, 70, 80, 5, 15, 25, 35, 45, 60]\n",
      "[10]\n",
      "[10, 20]\n",
      "[10, 20, 40]\n",
      "[10, 20, 40, 60]\n",
      "[10, 20, 40, 60, 70]\n",
      "[10, 20, 40, 60, 70, 80]\n",
      "[5, 10, 20, 40, 60, 70, 80]\n",
      "[5, 10, 15, 20, 40, 60, 70, 80]\n",
      "[5, 10, 15, 20, 25, 40, 60, 70, 80]\n",
      "[5, 10, 15, 20, 25, 35, 40, 60, 70, 80]\n",
      "[5, 10, 15, 20, 25, 35, 40, 45, 60, 70, 80]\n",
      "[5, 10, 15, 20, 25, 35, 40, 45, 60, 60, 70, 80]\n"
     ]
    }
   ],
   "source": [
    "# Merging two sorted list and using loop to produce one sorted list\n",
    "list1= [10,20,40,60,70,80]\n",
    "list2=[5,15,25,35,45,60]\n",
    "list3= list1 + list2\n",
    "print (list3)\n",
    "listnew = []\n",
    "for i in list3:\n",
    "    listnew = [ x for x in listnew if i > x ] + [i] + [ x for x in listnew if i <= x ]\n",
    "    print (listnew)"
   ]
  },
  {
   "cell_type": "code",
   "execution_count": null,
   "metadata": {},
   "outputs": [],
   "source": []
  }
 ],
 "metadata": {
  "kernelspec": {
   "display_name": "Python 3",
   "language": "python",
   "name": "python3"
  },
  "language_info": {
   "codemirror_mode": {
    "name": "ipython",
    "version": 3
   },
   "file_extension": ".py",
   "mimetype": "text/x-python",
   "name": "python",
   "nbconvert_exporter": "python",
   "pygments_lexer": "ipython3",
   "version": "3.7.6"
  }
 },
 "nbformat": 4,
 "nbformat_minor": 4
}
