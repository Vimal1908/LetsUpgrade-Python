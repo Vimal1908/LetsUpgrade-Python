{
 "cells": [
  {
   "cell_type": "code",
   "execution_count": 1,
   "metadata": {},
   "outputs": [
    {
     "name": "stdout",
     "output_type": "stream",
     "text": [
      "Before Swapping : \n",
      "{21: 'FTP', 22: 'SSH', 23: 'telnet', 80: 'http'}\n",
      "After swapping :  \n",
      "FTP  :   21\n",
      "SSH  :   22\n",
      "telnet  :   23\n",
      "http  :   80\n"
     ]
    }
   ],
   "source": [
    "#make a new dictionary in which keys become values and values become keys\n",
    "port1 = {21: \"FTP\", 22:\"SSH\", 23: \"telnet\", 80: \"http\"} \n",
    "port2 = dict([(value, key) for key, value in port1.items()]) \n",
    "print (\"Before Swapping : \") \n",
    "print(port1)  \n",
    "print (\"After swapping :  \")  \n",
    "for i in port2: \n",
    "    print (i, \" :  \", port2[i])"
   ]
  },
  {
   "cell_type": "code",
   "execution_count": 2,
   "metadata": {},
   "outputs": [
    {
     "name": "stdout",
     "output_type": "stream",
     "text": [
      "[3, 7, 11, 9]\n"
     ]
    }
   ],
   "source": [
    "#Make a new list which contains the sum of tuple \n",
    "lst=[(1,2),(3,4),(5,6),(4,5)]\n",
    "res= [sum(i) for i in lst]\n",
    "print(res)"
   ]
  },
  {
   "cell_type": "code",
   "execution_count": 2,
   "metadata": {},
   "outputs": [
    {
     "name": "stdout",
     "output_type": "stream",
     "text": [
      "[1, 2, 3, 1, 2, 'a', 'hit', 'less']\n"
     ]
    }
   ],
   "source": [
    "#Make the elements of inner lists and tuples to outer list\n",
    "list1 = [(1,2,3), [1,2], ['a','hit','less']]\n",
    "\n",
    "newlist = [each for t in list1 for each in t] \n",
    "\n",
    "print(newlist) "
   ]
  }
 ],
 "metadata": {
  "kernelspec": {
   "display_name": "Python 3",
   "language": "python",
   "name": "python3"
  },
  "language_info": {
   "codemirror_mode": {
    "name": "ipython",
    "version": 3
   },
   "file_extension": ".py",
   "mimetype": "text/x-python",
   "name": "python",
   "nbconvert_exporter": "python",
   "pygments_lexer": "ipython3",
   "version": "3.7.6"
  }
 },
 "nbformat": 4,
 "nbformat_minor": 4
}
